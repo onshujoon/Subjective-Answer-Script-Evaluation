{
 "cells": [
  {
   "cell_type": "code",
   "execution_count": null,
   "metadata": {
    "id": "bmSdtMeiK9oG"
   },
   "outputs": [],
   "source": [
    "!pip install matplotlib\n",
    "!pip uninstall sklearn\n",
    "!pip install sklearn\n",
    "import matplotlib as mpl\n",
    "from mpl_toolkits.mplot3d import Axes3D\n",
    "from sklearn.preprocessing import StandardScaler\n",
    "import matplotlib.pyplot as plt\n",
    "import numpy as np\n",
    "import os\n",
    "import pandas as pd\n",
    "datset = pd.read_csv('testing dataset - Sheet1.csv')\n",
    "\n"
   ]
  },
  {
   "cell_type": "code",
   "execution_count": null,
   "metadata": {
    "id": "pJuPa3ZpoK11"
   },
   "outputs": [],
   "source": [
    "\n",
    "def plotPerColumnDistribution(df, nGraphShown, nGraphPerRow):\n",
    "    nunique = df.nunique()\n",
    "    df = df[[col for col in df if nunique[col] > 1 and nunique[col] < 50]] # For displaying purposes, pick columns that have between 1 and 50 unique values\n",
    "    nRow, nCol = df.shape\n",
    "    columnNames = list(df)\n",
    "    nGraphRow = (nCol + nGraphPerRow - 1) // nGraphPerRow\n",
    "    plt.figure(num = None, figsize = (6 * nGraphPerRow, 8 * nGraphRow), dpi = 80, facecolor = 'w', edgecolor = 'k')\n",
    "    for i in range(min(nCol, nGraphShown)):\n",
    "        plt.subplot(nGraphRow, nGraphPerRow, i + 1)\n",
    "        columnDf = df.iloc[:, i]\n",
    "        if (not np.issubdtype(type(columnDf.iloc[0]), np.number)):\n",
    "            valueCounts = columnDf.value_counts()\n",
    "            valueCounts.plot.bar()\n",
    "        else:\n",
    "            columnDf.hist()\n",
    "        plt.ylabel('counts')\n",
    "        plt.xticks(rotation = 90)\n",
    "        plt.title(f'{columnNames[i]} (column {i})')\n",
    "    plt.tight_layout(pad = 1.0, w_pad = 1.0, h_pad = 1.0)\n",
    "    plt.show()"
   ]
  },
  {
   "cell_type": "code",
   "execution_count": null,
   "metadata": {
    "colab": {
     "base_uri": "https://localhost:8080/",
     "height": 1000
    },
    "id": "xPCxnIKZoVU5",
    "outputId": "afd919d6-571c-4a0b-f0f0-4fde031a6c7a"
   },
   "outputs": [],
   "source": [
    "plotPerColumnDistribution(datset, 10, 5)"
   ]
  },
  {
   "cell_type": "code",
   "execution_count": null,
   "metadata": {
    "colab": {
     "base_uri": "https://localhost:8080/"
    },
    "id": "Gm_6zjVHJmaH",
    "outputId": "5665f350-3ffd-419f-e3f2-60d62b13cda6",
    "scrolled": true
   },
   "outputs": [],
   "source": [
    "# !pip install sentence-transformers --quiet\n",
    "from sentence_transformers import SentenceTransformer\n",
    "\n",
    "model = SentenceTransformer('all-MiniLM-L6-v2')\n",
    "\n",
    "text = \"This is the text for which we will calculate the embedding.\"\n",
    "\n",
    "embedding = model.encode([text])\n",
    "\n",
    "print(embedding)\n",
    "\n"
   ]
  },
  {
   "cell_type": "code",
   "execution_count": null,
   "metadata": {
    "id": "1WFzgdygKCJi"
   },
   "outputs": [],
   "source": []
  },
  {
   "cell_type": "code",
   "execution_count": null,
   "metadata": {
    "colab": {
     "base_uri": "https://localhost:8080/"
    },
    "id": "zPsgmDJPzgse",
    "outputId": "b4b2832f-f590-424a-a229-fa6ddbe62c78"
   },
   "outputs": [],
   "source": [
    "textt1 = 'ER model stands for an Entity-Relationship model. It is a high-level data model. This model is used to define the data elements and relationship for a specified system. It develops a conceptual design for the database. It also develops a very simple and easy to design view of data. In ER modeling, the database structure is portrayed as a diagram called an entity-relationship diagram.'\n",
    "embedding1 = model.encode([textt1])\n",
    "\n",
    "textt2 ='ER model stands for an Entity-Relationship model. It is a high-level data model. This model is used to define the data elements and relationship for a specified system. It creates a basic concept of  design for the database. the deign of data is develops view of data. the database structure is also potrayed as a diagram called ER entity relationship diagram'\n",
    "embedding2 = model.encode([textt2])\n"
   ]
  },
  {
   "cell_type": "code",
   "execution_count": null,
   "metadata": {
    "colab": {
     "base_uri": "https://localhost:8080/"
    },
    "id": "Mbc_MZ-2MKsf",
    "outputId": "c82167f4-27cb-49b7-9207-16cabbf9b01b"
   },
   "outputs": [],
   "source": [
    "from sklearn.metrics.pairwise import cosine_similarity\n",
    "\n",
    "similarity = cosine_similarity(embedding1, embedding2)\n",
    "\n",
    "print(\"Similarity: \", similarity[0][0])\n"
   ]
  },
  {
   "cell_type": "code",
   "execution_count": null,
   "metadata": {
    "colab": {
     "base_uri": "https://localhost:8080/",
     "height": 106
    },
    "id": "J2W_KQvYVe15",
    "outputId": "0ae845a0-c435-4884-c2aa-4473605fc52d"
   },
   "outputs": [],
   "source": [
    "import pandas as pd\n",
    "datset = pd.read_csv('testing dataset - Sheet1.csv')"
   ]
  },
  {
   "cell_type": "code",
   "execution_count": null,
   "metadata": {
    "colab": {
     "base_uri": "https://localhost:8080/"
    },
    "id": "73tX-ZQuQ7A6",
    "outputId": "2700ccce-c9e9-4ab5-f7b9-0194c1534b62"
   },
   "outputs": [],
   "source": [
    "print(datset.shape)\n",
    "print(datset.values)\n",
    "# # print(datset['type'])\n",
    "# Y = datset['type']\n",
    "# # print(Y)\n",
    "# X = datset\n",
    "# # print(X)\n",
    "# X.drop('type',axis=1)"
   ]
  },
  {
   "cell_type": "code",
   "execution_count": null,
   "metadata": {},
   "outputs": [],
   "source": [
    "datset.iloc[0][3]"
   ]
  },
  {
   "cell_type": "code",
   "execution_count": null,
   "metadata": {
    "colab": {
     "base_uri": "https://localhost:8080/"
    },
    "id": "2thLeEzkX1VU",
    "outputId": "9ba461af-203d-4aa1-8bfe-08485691204f",
    "scrolled": true
   },
   "outputs": [],
   "source": [
    "\n",
    "import pandas as pd\n",
    "from sentence_transformers import SentenceTransformer\n",
    "\n",
    "# Assuming datset is your DataFrame\n",
    "\n",
    "\n",
    "# Initialize the SentenceTransformer model\n",
    "model = SentenceTransformer('all-MiniLM-L6-v2')\n",
    "\n",
    "df_encoded = pd.DataFrame(index=datset.index, columns=datset.columns)\n",
    "\n",
    "for i, row in enumerate(datset.values):\n",
    "    for j, value in enumerate(row):\n",
    "\n",
    "      if j == 0:\n",
    "          continue\n",
    "      print(f\"{value}\")\n",
    "      embedding = model.encode(['value'])\n",
    "      # Add the embedding to the new DataFrame\n",
    "      df_encoded.iloc[i, j] = embedding.tolist()  # Convert numpy array to list\n",
    "\n",
    "print(df_encoded)\n",
    "df_encoded.to_csv('csvmyfile.csv')\n",
    "\n",
    "df_encode[2][0]"
   ]
  },
  {
   "cell_type": "code",
   "execution_count": null,
   "metadata": {},
   "outputs": [],
   "source": []
  },
  {
   "cell_type": "code",
   "execution_count": null,
   "metadata": {},
   "outputs": [],
   "source": [
    "df_encode = list(df_encoded.values)\n",
    "print(df_encoded)\n",
    "for i, row in enumerate(df_encode):\n",
    "    for j, value in enumerate(row):\n",
    "        print(f\"Row {i}, Column {j}: \")\n",
    "print(df_encoded.iloc[1][1])"
   ]
  },
  {
   "cell_type": "code",
   "execution_count": null,
   "metadata": {
    "colab": {
     "base_uri": "https://localhost:8080/"
    },
    "id": "Vxaof3eilrYo",
    "outputId": "f551af64-612c-40ad-db74-3ff9c7a9a0a9",
    "scrolled": true
   },
   "outputs": [],
   "source": [
    "print(df_encoded['ans1'][0])\n",
    "for index in range(6):\n",
    "    text1 = datset.iloc[0].iloc[index]\n",
    "    print(text1)\n"
   ]
  },
  {
   "cell_type": "code",
   "execution_count": null,
   "metadata": {},
   "outputs": [],
   "source": [
    "import tkinter as tk\n",
    "from tkinter import ttk, messagebox\n",
    "import pandas as pd\n",
    "from sentence_transformers import SentenceTransformer\n",
    "from sklearn.metrics.pairwise import cosine_similarity\n",
    "\n",
    "# Initialize the model\n",
    "model = SentenceTransformer('all-MiniLM-L6-v2')\n",
    "\n",
    "# Sample data\n",
    "listt = datset\n",
    "list2 = ['', '', '', '', '', '']\n",
    "\n",
    "# Create Tkinter application\n",
    "root = tk.Tk()\n",
    "root.title(\"Similarity Checker\")\n",
    "root.geometry(\"800x400\")\n",
    "style = ttk.Style()\n",
    "style.configure(\"TButton\", padding=6, relief=\"flat\", background=\"#ccc\")\n",
    "style.configure(\"TLabel\", padding=6, font=(\"Helvetica\", 12))\n",
    "\n",
    "# Function to calculate similarity for a single input\n",
    "def calculate_similarity(index):\n",
    "    user_input = entries[index].get()\n",
    "    if not user_input:\n",
    "        messagebox.showerror(\"Error\", f\"Please provide input for field {index+1}.\")\n",
    "        return\n",
    "\n",
    "    text1 = datset.iloc[3].iloc[index]\n",
    "    print(text10\n",
    "\n",
    "    text2 = user_input\n",
    "    embedding1 = model.encode([text1])\n",
    "    embedding2 = model.encode([text2])\n",
    "    similarity = cosine_similarity(embedding1, embedding2)\n",
    "    if(similarity>=0.8):\n",
    "        results[index].config(text=f\"Similarity: {similarity[0][0]:.4f}, Marks: 100\")\n",
    "    elif(similarity<0.8 and similarity>=0.65):\n",
    "        results[index].config(text=f\"Similarity: {similarity[0][0]:.4f}, Marks: 90\")\n",
    "    elif(similarity<0.65 and similarity>=0.6):\n",
    "        results[index].config(text=f\"Similarity: {similarity[0][0]:.4f}, Marks: 80\")\n",
    "    else:\n",
    "        results[index].config(text=f\"Similarity: {similarity[0][0]:.4f}, Marks: 70\")\n",
    "\n",
    "# Create input fields for list2\n",
    "entries = []\n",
    "results = []\n",
    "for i, value in enumerate(list2):\n",
    "    label = ttk.Label(root, text=f\"Question {i+1}:\")\n",
    "    label.grid(row=i, column=0, padx=10, pady=5, sticky=\"w\")\n",
    "    \n",
    "    entry = ttk.Entry(root, width=50)\n",
    "    entry.insert(0, value)\n",
    "    entry.grid(row=i, column=1, padx=10, pady=5)\n",
    "    entries.append(entry)\n",
    "    \n",
    "    result_label = ttk.Label(root, text=\"\")\n",
    "    result_label.grid(row=i, column=3, padx=10, pady=5, sticky=\"w\")\n",
    "    results.append(result_label)\n",
    "    \n",
    "    submit_button = ttk.Button(root, text=\"Submit\" , command=lambda i=i: calculate_similarity(i))\n",
    "    submit_button.grid(row=i, column=2, padx=10, pady=5)\n",
    "def copy(event):\n",
    "    widget = root.focus_get()\n",
    "    if widget:\n",
    "        widget.clipboard_clear()\n",
    "        widget.clipboard_append(widget.selection_get())\n",
    "\n",
    "def paste(event):\n",
    "    widget = root.focus_get()\n",
    "    if widget:\n",
    "        widget.insert(tk.INSERT, widget.clipboard_get())\n",
    "\n",
    "root.bind_all(\"<Control-c>\", copy)\n",
    "root.bind_all(\"<Control-v>\", paste)\n",
    "\n",
    "root.mainloop()\n"
   ]
  },
  {
   "cell_type": "code",
   "execution_count": null,
   "metadata": {},
   "outputs": [],
   "source": []
  },
  {
   "cell_type": "code",
   "execution_count": null,
   "metadata": {},
   "outputs": [],
   "source": []
  },
  {
   "cell_type": "code",
   "execution_count": null,
   "metadata": {},
   "outputs": [],
   "source": []
  },
  {
   "cell_type": "code",
   "execution_count": null,
   "metadata": {},
   "outputs": [],
   "source": []
  },
  {
   "cell_type": "code",
   "execution_count": null,
   "metadata": {},
   "outputs": [],
   "source": []
  },
  {
   "cell_type": "code",
   "execution_count": null,
   "metadata": {},
   "outputs": [],
   "source": []
  },
  {
   "cell_type": "code",
   "execution_count": null,
   "metadata": {},
   "outputs": [],
   "source": []
  },
  {
   "cell_type": "code",
   "execution_count": null,
   "metadata": {},
   "outputs": [],
   "source": []
  }
 ],
 "metadata": {
  "accelerator": "GPU",
  "colab": {
   "gpuType": "T4",
   "provenance": []
  },
  "kernelspec": {
   "display_name": "Python 3 (ipykernel)",
   "language": "python",
   "name": "python3"
  },
  "language_info": {
   "codemirror_mode": {
    "name": "ipython",
    "version": 3
   },
   "file_extension": ".py",
   "mimetype": "text/x-python",
   "name": "python",
   "nbconvert_exporter": "python",
   "pygments_lexer": "ipython3",
   "version": "3.11.9"
  }
 },
 "nbformat": 4,
 "nbformat_minor": 4
}
